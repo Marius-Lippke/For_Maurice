{
 "cells": [
  {
   "cell_type": "markdown",
   "metadata": {},
   "source": [
    "# BM Praktikum \n",
    "## DICOM Reader"
   ]
  },
  {
   "cell_type": "code",
   "execution_count": 52,
   "metadata": {},
   "outputs": [],
   "source": [
    "import vtk"
   ]
  },
  {
   "cell_type": "code",
   "execution_count": 53,
   "metadata": {},
   "outputs": [],
   "source": [
    "reader = vtk.vtkDICOMImageReader() \n",
    "reader.SetDirectoryName('Marching_Man')\n",
    "reader.Update()"
   ]
  },
  {
   "cell_type": "markdown",
   "metadata": {},
   "source": [
    "Berechnet das Zentrum des Volumens"
   ]
  },
  {
   "cell_type": "code",
   "execution_count": 54,
   "metadata": {},
   "outputs": [
    {
     "name": "stdout",
     "output_type": "stream",
     "text": [
      "0.9375 0.9375 1.5\n"
     ]
    }
   ],
   "source": [
    "xMin, xMax, yMin, yMax, zMin, zMax = reader.GetDataExtent()\n",
    "xSpacing, ySpacing, zSpacing = reader.GetOutput().GetSpacing()\n",
    "print(xSpacing, ySpacing, zSpacing)\n",
    "x0, y0, z0 = reader.GetOutput().GetOrigin()\n",
    "center = [x0 + xSpacing * 0.5 * (xMin + xMax),\n",
    "          y0 + ySpacing * 0.5 * (yMin + yMax),\n",
    "          z0 + zSpacing * 0.5 * (zMin + zMax)]"
   ]
  },
  {
   "cell_type": "markdown",
   "metadata": {},
   "source": [
    "Matrix der Axialen-Sicht auf den Datensatz"
   ]
  },
  {
   "cell_type": "code",
   "execution_count": 55,
   "metadata": {},
   "outputs": [],
   "source": [
    "axial = vtk.vtkMatrix4x4()\n",
    "axial.DeepCopy((1, 0, 0, center[0],\n",
    "                0, 1, 0, center[1],\n",
    "                0, 0, 1, center[2],\n",
    "                0, 0, 0, 1))"
   ]
  },
  {
   "cell_type": "markdown",
   "metadata": {},
   "source": [
    "Extrahieren einer Schicht (slice) in der gewünschten Ausrichtung"
   ]
  },
  {
   "cell_type": "code",
   "execution_count": 56,
   "metadata": {},
   "outputs": [],
   "source": [
    "reslice = vtk.vtkImageReslice()\n",
    "reslice.SetInputConnection(reader.GetOutputPort())\n",
    "reslice.SetOutputDimensionality(2)\n",
    "reslice.SetResliceAxes(axial)\n",
    "reslice.SetInterpolationModeToCubic()"
   ]
  },
  {
   "cell_type": "markdown",
   "metadata": {},
   "source": [
    "Erstellen einer Graustufen-Lookup-Tabelle"
   ]
  },
  {
   "cell_type": "code",
   "execution_count": 57,
   "metadata": {},
   "outputs": [],
   "source": [
    "glob_level = 0.\n",
    "glob_window = 2048.\n",
    "table = vtk.vtkLookupTable()\n",
    "table.SetRange(glob_level-glob_window/2, glob_level+glob_window/2) # Level-Window -> intensity range\n",
    "table.SetValueRange(0.0, 1.0) # von schwarz nach weiß\n",
    "table.SetSaturationRange(0.0, 0.0) # keine Farbsättigung\n",
    "table.SetRampToLinear() # Linearer Verlauf\n",
    "table.Build()"
   ]
  },
  {
   "cell_type": "markdown",
   "metadata": {},
   "source": [
    "Map Bild zu lookup table"
   ]
  },
  {
   "cell_type": "code",
   "execution_count": 58,
   "metadata": {},
   "outputs": [],
   "source": [
    "color = vtk.vtkImageMapToColors()\n",
    "color.SetLookupTable(table)\n",
    "color.SetInputConnection(reslice.GetOutputPort())"
   ]
  },
  {
   "cell_type": "markdown",
   "metadata": {},
   "source": [
    "Das Bild anzeigen"
   ]
  },
  {
   "cell_type": "code",
   "execution_count": 59,
   "metadata": {},
   "outputs": [],
   "source": [
    "actor = vtk.vtkImageActor()\n",
    "actor.GetMapper().SetInputConnection(color.GetOutputPort())\n",
    "\n",
    "renderer = vtk.vtkRenderer()\n",
    "renderer.AddActor(actor)"
   ]
  },
  {
   "cell_type": "code",
   "execution_count": 60,
   "metadata": {},
   "outputs": [],
   "source": [
    "window = vtk.vtkRenderWindow()\n",
    "window.AddRenderer(renderer)"
   ]
  },
  {
   "cell_type": "markdown",
   "metadata": {},
   "source": [
    "Einrichten der Interaktion"
   ]
  },
  {
   "cell_type": "code",
   "execution_count": 61,
   "metadata": {},
   "outputs": [],
   "source": [
    "interactorStyle = vtk.vtkInteractorStyleImage()\n",
    "interactor = vtk.vtkRenderWindowInteractor()\n",
    "interactor.SetInteractorStyle(interactorStyle)\n",
    "window.SetInteractor(interactor)\n",
    "window.Render()"
   ]
  },
  {
   "cell_type": "markdown",
   "metadata": {},
   "source": [
    "Definieren von callbacks für das Slicing "
   ]
  },
  {
   "cell_type": "code",
   "execution_count": 62,
   "metadata": {},
   "outputs": [
    {
     "data": {
      "text/plain": [
       "6"
      ]
     },
     "execution_count": 62,
     "metadata": {},
     "output_type": "execute_result"
    }
   ],
   "source": [
    "actions = {}\n",
    "actions[\"Slicing\"] = 0\n",
    "\n",
    "def ButtonCallback(obj, event):\n",
    "    if event == \"LeftButtonPressEvent\":\n",
    "        actions[\"Slicing\"] = 1\n",
    "    else:\n",
    "        actions[\"Slicing\"] = 0\n",
    "\n",
    "def MouseMoveCallback(obj, event):\n",
    "\n",
    "    (lastX, lastY) = interactor.GetLastEventPosition()\n",
    "    (mouseX, mouseY) = interactor.GetEventPosition()\n",
    "    if actions[\"Slicing\"] == 1:\n",
    "        deltaY = mouseY - lastY\n",
    "        reslice.Update()\n",
    "        sliceSpacing = reslice.GetOutput().GetSpacing()[2]\n",
    "        matrix = reslice.GetResliceAxes()\n",
    "# move the center point that we are slicing through\n",
    "        center = matrix.MultiplyPoint((0, 0, sliceSpacing*deltaY, 1))\n",
    "        matrix.SetElement(0, 3, center[0])\n",
    "        matrix.SetElement(1, 3, center[1])\n",
    "        matrix.SetElement(2, 3, center[2])\n",
    "        window.Render()\n",
    "    else:\n",
    "        interactorStyle.OnMouseMove()\n",
    "\n",
    "interactorStyle.AddObserver(\"MouseMoveEvent\", MouseMoveCallback)\n",
    "interactorStyle.AddObserver(\"LeftButtonPressEvent\", ButtonCallback)\n",
    "interactorStyle.AddObserver(\"LeftButtonReleaseEvent\", ButtonCallback)"
   ]
  },
  {
   "cell_type": "code",
   "execution_count": 63,
   "metadata": {},
   "outputs": [],
   "source": [
    "interactor.Start() # Interaktion starten"
   ]
  },
  {
   "cell_type": "code",
   "execution_count": null,
   "metadata": {},
   "outputs": [],
   "source": []
  }
 ],
 "metadata": {
  "kernelspec": {
   "display_name": "Python 3",
   "language": "python",
   "name": "python3"
  },
  "language_info": {
   "codemirror_mode": {
    "name": "ipython",
    "version": 3
   },
   "file_extension": ".py",
   "mimetype": "text/x-python",
   "name": "python",
   "nbconvert_exporter": "python",
   "pygments_lexer": "ipython3",
   "version": "3.7.9"
  }
 },
 "nbformat": 4,
 "nbformat_minor": 2
}
